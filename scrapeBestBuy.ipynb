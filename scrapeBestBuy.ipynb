{
 "cells": [
  {
   "cell_type": "markdown",
   "metadata": {},
   "source": [
    "# Make requests to the Best Buy API\n",
    "\n",
    "https://bestbuyapis.github.io/api-documentation/\n",
    "\n",
    "https://developer.bestbuy.com/secure/dashboard"
   ]
  },
  {
   "cell_type": "code",
   "execution_count": 1,
   "metadata": {},
   "outputs": [],
   "source": [
    "import requests\n",
    "session = requests.Session()"
   ]
  },
  {
   "cell_type": "code",
   "execution_count": 3,
   "metadata": {},
   "outputs": [],
   "source": [
    "api_key = \"ovcAukjfZArzRBqHEdLBSJ1W\""
   ]
  },
  {
   "cell_type": "code",
   "execution_count": 4,
   "metadata": {},
   "outputs": [],
   "source": [
    "url = f\"https://api.bestbuy.com/v1/stores(region=ut)?format=json&show=storeId,city,region&apiKey={api_key}\""
   ]
  },
  {
   "cell_type": "code",
   "execution_count": 5,
   "metadata": {},
   "outputs": [
    {
     "data": {
      "text/plain": [
       "<Response [200]>"
      ]
     },
     "execution_count": 5,
     "metadata": {},
     "output_type": "execute_result"
    }
   ],
   "source": [
    "r = session.get(url)\n",
    "r"
   ]
  },
  {
   "cell_type": "code",
   "execution_count": 6,
   "metadata": {},
   "outputs": [
    {
     "data": {
      "text/plain": [
       "{'from': 1,\n",
       " 'to': 10,\n",
       " 'currentPage': 1,\n",
       " 'total': 11,\n",
       " 'totalPages': 2,\n",
       " 'queryTime': '0.010',\n",
       " 'totalTime': '0.017',\n",
       " 'partial': False,\n",
       " 'canonicalUrl': '/v1/stores(region=\"ut\")?show=storeId,city,region&format=json&apiKey=ovcAukjfZArzRBqHEdLBSJ1W',\n",
       " 'stores': [{'storeId': 1402, 'city': 'American Fork', 'region': 'UT'},\n",
       "  {'storeId': 1887, 'city': 'Farmington', 'region': 'UT'},\n",
       "  {'storeId': 773, 'city': 'Orem', 'region': 'UT'},\n",
       "  {'storeId': 497, 'city': 'Sandy', 'region': 'UT'},\n",
       "  {'storeId': 1146, 'city': 'West Jordan', 'region': 'UT'},\n",
       "  {'storeId': 1761, 'city': 'Park City', 'region': 'UT'},\n",
       "  {'storeId': 521, 'city': 'Murray', 'region': 'UT'},\n",
       "  {'storeId': 527, 'city': 'Salt Lake City', 'region': 'UT'},\n",
       "  {'storeId': 945, 'city': 'Logan', 'region': 'UT'},\n",
       "  {'storeId': 496, 'city': 'Ogden', 'region': 'UT'}]}"
      ]
     },
     "execution_count": 6,
     "metadata": {},
     "output_type": "execute_result"
    }
   ],
   "source": [
    "r.json()"
   ]
  },
  {
   "cell_type": "code",
   "execution_count": 7,
   "metadata": {},
   "outputs": [],
   "source": [
    "url = f\"https://api.bestbuy.com/v1/products(search=flat&search=screen&search=tv)?format=json&show=sku,name,salePrice&apiKey={api_key}\""
   ]
  },
  {
   "cell_type": "code",
   "execution_count": 89,
   "metadata": {},
   "outputs": [],
   "source": [
    "url = f\"https://api.bestbuy.com/v1/products(search=flat%20screen%20tv)?format=json&page=1&pageSize=100&apiKey={api_key}\""
   ]
  },
  {
   "cell_type": "code",
   "execution_count": null,
   "metadata": {},
   "outputs": [],
   "source": [
    "\"https://www.bestbuy.com/site/searchpage.jsp?st=flat+screen+tvs&_dyncharset=UTF-8&id=pcat17071&type=page&sc=Global&cp=1&nrp=&sp=&qp=&list=n&af=true&iht=y&usc=All+Categories&ks=960&keys=keys\""
   ]
  },
  {
   "cell_type": "code",
   "execution_count": 105,
   "metadata": {},
   "outputs": [],
   "source": [
    "url = f'https://api.bestbuy.com/v1/products(categoryPath.name=\"All%20Flat-Panel%20TVs\")?format=json&show=sku,name,salePrice&apiKey={api_key}'"
   ]
  },
  {
   "cell_type": "code",
   "execution_count": 106,
   "metadata": {},
   "outputs": [
    {
     "data": {
      "text/plain": [
       "<Response [200]>"
      ]
     },
     "execution_count": 106,
     "metadata": {},
     "output_type": "execute_result"
    }
   ],
   "source": [
    "r = session.get(url)\n",
    "r"
   ]
  },
  {
   "cell_type": "code",
   "execution_count": 107,
   "metadata": {},
   "outputs": [],
   "source": [
    "data = r.json()"
   ]
  },
  {
   "cell_type": "code",
   "execution_count": 92,
   "metadata": {},
   "outputs": [
    {
     "data": {
      "text/plain": [
       "dict_keys(['from', 'to', 'currentPage', 'total', 'totalPages', 'queryTime', 'totalTime', 'partial', 'canonicalUrl', 'products'])"
      ]
     },
     "execution_count": 92,
     "metadata": {},
     "output_type": "execute_result"
    }
   ],
   "source": [
    "data.keys()"
   ]
  },
  {
   "cell_type": "code",
   "execution_count": 108,
   "metadata": {},
   "outputs": [
    {
     "name": "stdout",
     "output_type": "stream",
     "text": [
      "Your search started with product number 1 and ended with number 0\n"
     ]
    }
   ],
   "source": [
    "print(f\"Your search started with product number {data['from']} and ended with number {data['to']}\")"
   ]
  },
  {
   "cell_type": "code",
   "execution_count": 109,
   "metadata": {},
   "outputs": [
    {
     "data": {
      "text/plain": [
       "[]"
      ]
     },
     "execution_count": 109,
     "metadata": {},
     "output_type": "execute_result"
    }
   ],
   "source": [
    "[result['name'] for result in data['products']]"
   ]
  },
  {
   "cell_type": "code",
   "execution_count": null,
   "metadata": {},
   "outputs": [],
   "source": []
  },
  {
   "cell_type": "code",
   "execution_count": null,
   "metadata": {},
   "outputs": [],
   "source": [
    "\n",
    "\n",
    "\n",
    "\n",
    "\n",
    "\n",
    "\n",
    "\n",
    "\n",
    "\n",
    "\n",
    "\n",
    "\n",
    "\n",
    "\n",
    "\n",
    "\n",
    "\n",
    "\n"
   ]
  }
 ],
 "metadata": {
  "kernelspec": {
   "display_name": "Python 3",
   "language": "python",
   "name": "python3"
  },
  "language_info": {
   "codemirror_mode": {
    "name": "ipython",
    "version": 3
   },
   "file_extension": ".py",
   "mimetype": "text/x-python",
   "name": "python",
   "nbconvert_exporter": "python",
   "pygments_lexer": "ipython3",
   "version": "3.7.1"
  }
 },
 "nbformat": 4,
 "nbformat_minor": 2
}
