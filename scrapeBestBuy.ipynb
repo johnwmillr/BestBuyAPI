{
 "cells": [
  {
   "cell_type": "markdown",
   "metadata": {},
   "source": [
    "# Make requests to the Best Buy API\n",
    "\n",
    "https://bestbuyapis.github.io/api-documentation/\n",
    "\n",
    "https://developer.bestbuy.com/secure/dashboard"
   ]
  },
  {
   "cell_type": "code",
   "execution_count": 182,
   "metadata": {},
   "outputs": [],
   "source": [
    "import time\n",
    "import pandas as pd\n",
    "import matplotlib.pyplot as plt\n",
    "import requests\n",
    "session = requests.Session()"
   ]
  },
  {
   "cell_type": "code",
   "execution_count": 2,
   "metadata": {},
   "outputs": [],
   "source": [
    "# Load the API key\n",
    "with open(\"./.bestbuy_api_key.txt\") as fi:\n",
    "    api_key = fi.read().split(\": \", 1)[-1].strip()"
   ]
  },
  {
   "cell_type": "code",
   "execution_count": null,
   "metadata": {},
   "outputs": [],
   "source": [
    "url = f\"https://api.bestbuy.com/v1/products(search=flat&search=screen&search=tv)?format=json&show=sku,name,salePrice&apiKey={api_key}\"\n",
    "url = f\"https://api.bestbuy.com/v1/products(search=flat%20screen%20tv)?format=json&page=1&pageSize=100&apiKey={api_key}\"\n",
    "url = f'https://api.bestbuy.com/v1/products(categoryPath.name=\"All%20Flat-Panel%20TVs\")?format=json&show=sku,name,salePrice&apiKey={api_key}'"
   ]
  },
  {
   "cell_type": "markdown",
   "metadata": {},
   "source": [
    "# Search for flat screen 4K TVs"
   ]
  },
  {
   "cell_type": "code",
   "execution_count": 69,
   "metadata": {},
   "outputs": [
    {
     "data": {
      "text/plain": [
       "'https://api.bestbuy.com/v1/products((search=4k)&(categoryPath.id=abcat0101000))?apiKey=ovcAukjfZArzRBqHEdLBSJ1W&sort=name.asc&show=name&pageSize=100&format=json'"
      ]
     },
     "execution_count": 69,
     "metadata": {},
     "output_type": "execute_result"
    }
   ],
   "source": [
    "f\"https://api.bestbuy.com/v1/products((search=4k)&(categoryPath.id=abcat0101000))?apiKey={api_key}&sort=name.asc&show=name&pageSize=100&format=json\""
   ]
  },
  {
   "cell_type": "code",
   "execution_count": 70,
   "metadata": {},
   "outputs": [],
   "source": [
    "def assemble_request(search_term, **kwargs):   \n",
    "    s = \"\"\n",
    "    for key, value in params.items():\n",
    "        s += f\"&{key}={value}\"\n",
    "    url = f\"https://api.bestbuy.com/v1/products((search={search_term.replace(' ', '%20')})&(categoryPath.id=abcat0101000))?apiKey={api_key}&format=json\" + s\n",
    "    return url"
   ]
  },
  {
   "cell_type": "code",
   "execution_count": 183,
   "metadata": {},
   "outputs": [
    {
     "name": "stdout",
     "output_type": "stream",
     "text": [
      "Found 50 product results\n",
      "Found 50 product results\n",
      "Found 50 product results\n",
      "Found 20 product results\n",
      "Found 0 product results\n"
     ]
    }
   ],
   "source": [
    "fields = 'name,regularPrice,screenSizeIn,sku'\n",
    "products = pd.DataFrame(columns=fields.split(','))\n",
    "search_term = \"4K\"\n",
    "for page_num in range(1, 20):\n",
    "    params = {'page': page_num,\n",
    "              'pageSize': 50,\n",
    "              'show': fields}\n",
    "    url = assemble_request(search_term, **params)\n",
    "\n",
    "    # Make the request\n",
    "    r = session.get(url)\n",
    "    assert r.status_code == 200, f\"Bad response: {r.status_code}\"\n",
    "    tmp = pd.DataFrame(r.json()['products'])\n",
    "    print(f\"Found {len(tmp)} product results\")\n",
    "    if not len(tmp):\n",
    "        break\n",
    "    products = pd.concat([products, tmp])\n",
    "    time.sleep(5)\n",
    "products.drop_duplicates(subset=['sku'], inplace=True)"
   ]
  },
  {
   "cell_type": "code",
   "execution_count": 172,
   "metadata": {},
   "outputs": [],
   "source": [
    "products.to_json(\"4k_tv_prices.json\", orient='records')\n",
    "products.to_pickle(\"4k_tv_prices.pickle\")"
   ]
  },
  {
   "cell_type": "code",
   "execution_count": 185,
   "metadata": {},
   "outputs": [
    {
     "data": {
      "text/html": [
       "<div>\n",
       "<style scoped>\n",
       "    .dataframe tbody tr th:only-of-type {\n",
       "        vertical-align: middle;\n",
       "    }\n",
       "\n",
       "    .dataframe tbody tr th {\n",
       "        vertical-align: top;\n",
       "    }\n",
       "\n",
       "    .dataframe thead th {\n",
       "        text-align: right;\n",
       "    }\n",
       "</style>\n",
       "<table border=\"1\" class=\"dataframe\">\n",
       "  <thead>\n",
       "    <tr style=\"text-align: right;\">\n",
       "      <th></th>\n",
       "      <th>name</th>\n",
       "      <th>regularPrice</th>\n",
       "      <th>screenSizeIn</th>\n",
       "      <th>sku</th>\n",
       "    </tr>\n",
       "  </thead>\n",
       "  <tbody>\n",
       "    <tr>\n",
       "      <th>15</th>\n",
       "      <td>Toshiba - 55” Class – LED - 2160p – Smart - 4K...</td>\n",
       "      <td>449.99</td>\n",
       "      <td>54.6</td>\n",
       "      <td>6194911</td>\n",
       "    </tr>\n",
       "    <tr>\n",
       "      <th>16</th>\n",
       "      <td>Insignia™ - 43” Class – LED - 2160p – Smart - ...</td>\n",
       "      <td>299.99</td>\n",
       "      <td>42.5</td>\n",
       "      <td>6245701</td>\n",
       "    </tr>\n",
       "    <tr>\n",
       "      <th>17</th>\n",
       "      <td>Insignia™ - 50” Class – LED - 2160p – Smart - ...</td>\n",
       "      <td>349.99</td>\n",
       "      <td>49.5</td>\n",
       "      <td>6245704</td>\n",
       "    </tr>\n",
       "    <tr>\n",
       "      <th>18</th>\n",
       "      <td>Insignia™ - 55” Class – LED - 2160p – Smart - ...</td>\n",
       "      <td>429.99</td>\n",
       "      <td>54.5</td>\n",
       "      <td>6245800</td>\n",
       "    </tr>\n",
       "    <tr>\n",
       "      <th>19</th>\n",
       "      <td>VIZIO - 65\" Class - LED - E-Series - 2160p - S...</td>\n",
       "      <td>699.99</td>\n",
       "      <td>64.5</td>\n",
       "      <td>5608905</td>\n",
       "    </tr>\n",
       "  </tbody>\n",
       "</table>\n",
       "</div>"
      ],
      "text/plain": [
       "                                                 name  regularPrice  \\\n",
       "15  Toshiba - 55” Class – LED - 2160p – Smart - 4K...        449.99   \n",
       "16  Insignia™ - 43” Class – LED - 2160p – Smart - ...        299.99   \n",
       "17  Insignia™ - 50” Class – LED - 2160p – Smart - ...        349.99   \n",
       "18  Insignia™ - 55” Class – LED - 2160p – Smart - ...        429.99   \n",
       "19  VIZIO - 65\" Class - LED - E-Series - 2160p - S...        699.99   \n",
       "\n",
       "    screenSizeIn      sku  \n",
       "15          54.6  6194911  \n",
       "16          42.5  6245701  \n",
       "17          49.5  6245704  \n",
       "18          54.5  6245800  \n",
       "19          64.5  5608905  "
      ]
     },
     "execution_count": 185,
     "metadata": {},
     "output_type": "execute_result"
    }
   ],
   "source": [
    "products.tail()"
   ]
  },
  {
   "cell_type": "code",
   "execution_count": 186,
   "metadata": {},
   "outputs": [
    {
     "data": {
      "text/plain": [
       "(170, 4)"
      ]
     },
     "execution_count": 186,
     "metadata": {},
     "output_type": "execute_result"
    }
   ],
   "source": [
    "products.shape"
   ]
  },
  {
   "cell_type": "code",
   "execution_count": 220,
   "metadata": {},
   "outputs": [],
   "source": [
    "import numpy as np"
   ]
  },
  {
   "cell_type": "code",
   "execution_count": 221,
   "metadata": {},
   "outputs": [],
   "source": [
    "products['price_in_thousands'] = products.regularPrice / 1e3\n",
    "products['price_log'] = np.log(products.regularPrice)"
   ]
  },
  {
   "cell_type": "code",
   "execution_count": 301,
   "metadata": {},
   "outputs": [
    {
     "data": {
      "image/png": "[encoded data removed]",
      "text/plain": [
       "<Figure size 432x432 with 1 Axes>"
      ]
     },
     "metadata": {
      "needs_background": "light"
     },
     "output_type": "display_data"
    }
   ],
   "source": [
    "products.plot(y='regularPrice', x='screenSizeIn', style='o', ms=9, alpha=0.4, fontsize=12,\n",
    "              figsize=(6, 6), legend=False, markeredgecolor='k',\n",
    "              logy=True)\n",
    "plt.xlabel(\"Screen size (inches)\", fontsize=15)\n",
    "plt.ylabel(\"Price ($) (log scale)\", fontsize=15)\n",
    "plt.title(\"4K TV Price as a function of Screen Size\", fontsize=16, color=\"gray\", weight=\"heavy\", loc='center')\n",
    "plt.grid(True, axis='both', alpha=0.3)\n",
    "plt.text(40.3, 19.2e3, \"@johnwmillr\", ha=\"left\", fontsize=12, color='gray', weight='heavy', alpha=0.6)\n",
    "plt.savefig(\"./price_vs_size_logy.png\", dpi=300, bbox_inches='tight')"
   ]
  },
  {
   "cell_type": "code",
   "execution_count": null,
   "metadata": {},
   "outputs": [],
   "source": [
    "\n",
    "\n",
    "\n",
    "\n",
    "\n",
    "\n",
    "\n",
    "\n",
    "\n",
    "\n",
    "\n",
    "\n",
    "\n",
    "\n",
    "\n",
    "\n",
    "\n",
    "\n",
    "\n"
   ]
  }
 ],
 "metadata": {
  "kernelspec": {
   "display_name": "Python 3",
   "language": "python",
   "name": "python3"
  },
  "language_info": {
   "codemirror_mode": {
    "name": "ipython",
    "version": 3
   },
   "file_extension": ".py",
   "mimetype": "text/x-python",
   "name": "python",
   "nbconvert_exporter": "python",
   "pygments_lexer": "ipython3",
   "version": "3.7.1"
  }
 },
 "nbformat": 4,
 "nbformat_minor": 2
}
